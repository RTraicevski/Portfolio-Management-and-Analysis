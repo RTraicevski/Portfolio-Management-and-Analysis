{
 "cells": [
  {
   "cell_type": "markdown",
   "metadata": {},
   "source": [
    "## Beta Weighting a Portfolio"
   ]
  },
  {
   "cell_type": "code",
   "execution_count": 2,
   "metadata": {},
   "outputs": [],
   "source": [
    "import datetime as dt\n",
    "import pandas as pd\n",
    "import numpy as np\n",
    "\n",
    "from pandas_datareader import data as pdr\n",
    "import matplotlib.pyplot as plt\n",
    "\n",
    "import yfinance as yfin\n",
    "yfin.pdr_override()\n"
   ]
  },
  {
   "cell_type": "code",
   "execution_count": 3,
   "metadata": {},
   "outputs": [
    {
     "name": "stdout",
     "output_type": "stream",
     "text": [
      "['^AXJO', 'FLT.AX', 'HLO.AX', 'QAN.AX', 'VAS.AX', 'WEB.AX']\n"
     ]
    }
   ],
   "source": [
    "end = dt.datetime.now()\n",
    "start =end - dt.timedelta(days=1000)\n",
    "\n",
    "\n",
    "# Stock list\n",
    "stockList = ['FLT', 'HLO', 'QAN', 'VAS', 'WEB']\n",
    "stocks = [stock+'.AX' for stock in stockList] #Yahoo finance requires .AX for ASX\n",
    "stocks = ['^AXJO'] + stocks\n",
    "\n",
    "\n",
    "\n",
    "print(stocks)\n"
   ]
  },
  {
   "cell_type": "code",
   "execution_count": 5,
   "metadata": {},
   "outputs": [
    {
     "name": "stderr",
     "output_type": "stream",
     "text": [
      "[*********************100%%**********************]  6 of 6 completed\n"
     ]
    }
   ],
   "source": [
    "# Import data and compute log returns\n",
    "df = pdr.get_data_yahoo(stocks, start, end)\n",
    "\n",
    "lnReturns = np.log(df['Adj Close'] / df['Adj Close'].shift(1)).dropna()\n"
   ]
  },
  {
   "cell_type": "markdown",
   "metadata": {},
   "source": [
    "### Calculating Beta using Matrix Algebra: OLS\n",
    "\n",
    "$$\\beta = (X^{T}X)^{-1}X^{T}y$$\n",
    "\n",
    "In our case, X is the vector of market index returns and y is our stock returns The matrix X is called the design matrix, and it is for our example a column vector. We're not regressing the market returns upon all the stocks together. Each stock has its own Beta!\n",
    "\n",
    "However, when implemented, we add a column of 1's so the design matrix X rather has 2 columns to account for an intercept term.\n",
    "\n",
    "Without the intercept, the fitted line is forced to cross the origin"
   ]
  },
  {
   "cell_type": "code",
   "execution_count": 8,
   "metadata": {},
   "outputs": [
    {
     "data": {
      "text/plain": [
       "Ticker\n",
       "HLO.AX    0.708975\n",
       "QAN.AX    0.481246\n",
       "VAS.AX    0.178948\n",
       "WEB.AX    0.717300\n",
       "^AXJO     0.178960\n",
       "Name: Beta, dtype: float64"
      ]
     },
     "execution_count": 8,
     "metadata": {},
     "output_type": "execute_result"
    }
   ],
   "source": [
    "\n",
    "\n",
    "\n",
    "def matrix_beta(df):\n",
    "    # Market index is the first column 0\n",
    "    X = df.values[:, [0]]\n",
    "    \n",
    "    # add an additional column for the intercept (initalise as 1's)\n",
    "    X = np.concatenate([np.ones_like(X), X], axis=1)\n",
    "    \n",
    "    # Apply matrix algebra for linear regression model\n",
    "    beta = np.linalg.pinv(X.T @ X) @ X.T @ df.values[:, 1:]\n",
    "    \n",
    "    return pd.Series(beta[1], df.columns[1:], name='Beta')\n",
    "\n",
    "beta = matrix_beta(lnReturns)\n",
    "beta"
   ]
  },
  {
   "cell_type": "markdown",
   "metadata": {},
   "source": [
    "### Beta as a linear operator\n",
    "Market-beta can be weighted, averaged, added, etc\n",
    "$$\\beta_{p,m}=w_{1}*\\beta_{1}+w_{2}*\\beta_{2}$$\n",
    "\n",
    "\n",
    "\n",
    "\n",
    "\n",
    "\n",
    "\n",
    "\n"
   ]
  },
  {
   "cell_type": "markdown",
   "metadata": {},
   "source": [
    "### Including Options \n",
    "Beta relies on a linear model. An out of the money option may have a distinctly non-linear payoff. The change in price of an option relative to the change in the price of the underlying asset (for example a stock) is not constant.\n",
    "\n",
    "To include options, we would require the Delta of the option\n",
    "\n",
    "Then you could weight the Option Deltas by Beta\n"
   ]
  },
  {
   "cell_type": "code",
   "execution_count": null,
   "metadata": {},
   "outputs": [],
   "source": []
  }
 ],
 "metadata": {
  "kernelspec": {
   "display_name": "Python 3",
   "language": "python",
   "name": "python3"
  },
  "language_info": {
   "codemirror_mode": {
    "name": "ipython",
    "version": 3
   },
   "file_extension": ".py",
   "mimetype": "text/x-python",
   "name": "python",
   "nbconvert_exporter": "python",
   "pygments_lexer": "ipython3",
   "version": "3.8.3"
  }
 },
 "nbformat": 4,
 "nbformat_minor": 4
}
