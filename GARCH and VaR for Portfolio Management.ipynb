{
 "cells": [
  {
   "cell_type": "markdown",
   "metadata": {},
   "source": [
    "# Using GARCH for Portfolio Management\n",
    "\n",
    "\n",
    "### Historical / Empirical VaR\n",
    "Estimates quantiles based on the observed data\n",
    "\n",
    "### Parametric VaR\n",
    "Estimates quantiles based on an assumed distribution\n",
    "\n",
    "Standard VaR calculations have many dsiadvantages. Historical primarily suffers from that it can only tell you the Value at Risk based on historical data, nothing more. Parametric assumes that returns are following some distribution, which in some periods can, and in others wont. For example, it is well known that the returns have fatter tails then accounted for in a normal distribution.\n",
    "\n",
    "Statistics pulled arbitrarily from a period of low volatility, for example, may understate the potential for risk events to occur and the magnitude of those events.\n",
    "\n",
    "Simulating future VaR with GARCH can rectify some of these issues, namely that it can forecast the variance in a much more predictable manner. For example, GARCH models can account for black swan events and aysmmetric shocks etc.\n",
    "\n",
    "\n",
    "\n",
    "### With GARCH\n",
    "1. Apply GARCH model to make variance forecasts\n",
    "2. Obtain GARCH mean and volatility estimates\n",
    "3. Compute qunatile for given level\n",
    "\n",
    "\n"
   ]
  },
  {
   "cell_type": "code",
   "execution_count": 46,
   "metadata": {},
   "outputs": [],
   "source": [
    "import pandas as pd\n",
    "import numpy as np\n",
    "import datetime as dt\n",
    "import matplotlib.pyplot as plt\n",
    "import matplotlib.cm as cm\n",
    "from pandas_datareader import data as pdr\n",
    "\n",
    "import yfinance as yfin\n",
    "yfin.pdr_override()\n",
    "\n",
    "import seaborn as sns\n",
    "import statsmodels.api as sm\n",
    "import statsmodels.formula.api as smf\n",
    "import statsmodels.tsa.api as tsa\n",
    "from statsmodels.graphics.tsaplots import plot_acf, plot_pacf\n",
    "from statsmodels.tsa.stattools import acf, q_stat, adfuller\n",
    "import scipy.stats as stats\n",
    "\n",
    "from arch import arch_model\n",
    "from pylab import rcParams \n",
    "\n",
    "from arch.__future__ import reindexing\n",
    "reindexing = True\n",
    "\n"
   ]
  },
  {
   "cell_type": "code",
   "execution_count": 33,
   "metadata": {},
   "outputs": [
    {
     "name": "stderr",
     "output_type": "stream",
     "text": [
      "[*********************100%%**********************]  1 of 1 completed\n"
     ]
    },
    {
     "data": {
      "image/png": "[encoded data removed]",
      "text/plain": [
       "<Figure size 432x288 with 1 Axes>"
      ]
     },
     "metadata": {
      "needs_background": "light"
     },
     "output_type": "display_data"
    }
   ],
   "source": [
    "#Setting some arbitrary time period\n",
    "\n",
    "end = dt.datetime.now()\n",
    "start =end - dt.timedelta(days=1000)\n",
    "\n",
    "# Importing some stock data\n",
    "df = pdr.get_data_yahoo('^AXJO', start, end)\n",
    "\n",
    "#print(df.head())\n",
    "\n",
    "\n",
    "adjusted_close = df['Close']\n",
    "adjusted_close.plot()\n",
    "plt.title('ASX200 Close')\n",
    "plt.show()\n"
   ]
  },
  {
   "cell_type": "code",
   "execution_count": 36,
   "metadata": {},
   "outputs": [
    {
     "name": "stdout",
     "output_type": "stream",
     "text": [
      "Daily volatility: 0.83%\n",
      "\n",
      "Monthly volatility: 3.8%\n",
      "\n",
      "Annual volatility: 13.15%\n"
     ]
    }
   ],
   "source": [
    "### Calculating returns\n",
    "df['return'] = 100*(df['Close'].pct_change())\n",
    "\n",
    "df['lnReturn']  =np.log(df['Close']/df['Close'].shift(1)).dropna()\n",
    "df = df.dropna()\n",
    "\n",
    "# Daily SD of returns\n",
    "sd_daily = df['return'].std()\n",
    "\n",
    "# Daily to Monthly vol\n",
    "sd_monthly = np.sqrt(21) * sd_daily\n",
    "\n",
    "# daily to annual\n",
    "sd_annual = np.sqrt(252) * sd_daily\n",
    "\n",
    "print(f'Daily volatility: {round(sd_daily,2)}%')\n",
    "print(f'\\nMonthly volatility: {round(sd_monthly,2)}%')\n",
    "print(f'\\nAnnual volatility: {round(sd_annual,2)}%')"
   ]
  },
  {
   "cell_type": "markdown",
   "metadata": {},
   "source": [
    "### Parametric VaR"
   ]
  },
  {
   "cell_type": "code",
   "execution_count": 30,
   "metadata": {},
   "outputs": [],
   "source": [
    "enddate = df.index.max()\n",
    "\n",
    "egarch_gm = arch_model(df['return'], p = 1, q = 1, o = 1, vol = 'EGARCH', dist = 't')\n",
    "res = egarch_gm.fit(disp='off', last_obs='2022-01-01')\n"
   ]
  },
  {
   "cell_type": "code",
   "execution_count": 31,
   "metadata": {},
   "outputs": [
    {
     "name": "stdout",
     "output_type": "stream",
     "text": [
      "[-2.47635846 -1.61996506]\n"
     ]
    }
   ],
   "source": [
    "forecasts = res.forecast(start='2023-01-01')\n",
    "cond_mean = forecasts.mean['2023':]\n",
    "cond_var = forecasts.variance['2023':]\n",
    "q = egarch_gm.distribution.ppf([0.01, 0.05], res.params[5])\n",
    "print(q)"
   ]
  },
  {
   "cell_type": "code",
   "execution_count": 25,
   "metadata": {},
   "outputs": [
    {
     "data": {
      "text/html": [
       "<div>\n",
       "<style scoped>\n",
       "    .dataframe tbody tr th:only-of-type {\n",
       "        vertical-align: middle;\n",
       "    }\n",
       "\n",
       "    .dataframe tbody tr th {\n",
       "        vertical-align: top;\n",
       "    }\n",
       "\n",
       "    .dataframe thead th {\n",
       "        text-align: right;\n",
       "    }\n",
       "</style>\n",
       "<table border=\"1\" class=\"dataframe\">\n",
       "  <thead>\n",
       "    <tr style=\"text-align: right;\">\n",
       "      <th></th>\n",
       "      <th>1%</th>\n",
       "      <th>5%</th>\n",
       "    </tr>\n",
       "  </thead>\n",
       "  <tbody>\n",
       "    <tr>\n",
       "      <th>count</th>\n",
       "      <td>254.000000</td>\n",
       "      <td>254.000000</td>\n",
       "    </tr>\n",
       "    <tr>\n",
       "      <th>mean</th>\n",
       "      <td>2.025230</td>\n",
       "      <td>1.167976</td>\n",
       "    </tr>\n",
       "    <tr>\n",
       "      <th>std</th>\n",
       "      <td>0.607721</td>\n",
       "      <td>0.351335</td>\n",
       "    </tr>\n",
       "    <tr>\n",
       "      <th>min</th>\n",
       "      <td>0.599679</td>\n",
       "      <td>0.343839</td>\n",
       "    </tr>\n",
       "    <tr>\n",
       "      <th>25%</th>\n",
       "      <td>1.622629</td>\n",
       "      <td>0.935225</td>\n",
       "    </tr>\n",
       "    <tr>\n",
       "      <th>50%</th>\n",
       "      <td>1.989150</td>\n",
       "      <td>1.147117</td>\n",
       "    </tr>\n",
       "    <tr>\n",
       "      <th>75%</th>\n",
       "      <td>2.398880</td>\n",
       "      <td>1.383989</td>\n",
       "    </tr>\n",
       "    <tr>\n",
       "      <th>max</th>\n",
       "      <td>4.146921</td>\n",
       "      <td>2.394564</td>\n",
       "    </tr>\n",
       "  </tbody>\n",
       "</table>\n",
       "</div>"
      ],
      "text/plain": [
       "               1%          5%\n",
       "count  254.000000  254.000000\n",
       "mean     2.025230    1.167976\n",
       "std      0.607721    0.351335\n",
       "min      0.599679    0.343839\n",
       "25%      1.622629    0.935225\n",
       "50%      1.989150    1.147117\n",
       "75%      2.398880    1.383989\n",
       "max      4.146921    2.394564"
      ]
     },
     "execution_count": 25,
     "metadata": {},
     "output_type": "execute_result"
    }
   ],
   "source": [
    "value_at_risk = -cond_mean.values - np.sqrt(cond_var).values * q[None, :]\n",
    "value_at_risk = pd.DataFrame(value_at_risk, columns=['1%', '5%'], index=cond_var.index)\n",
    "value_at_risk.describe()"
   ]
  },
  {
   "cell_type": "markdown",
   "metadata": {},
   "source": [
    "### Empircal VaR"
   ]
  },
  {
   "cell_type": "code",
   "execution_count": 38,
   "metadata": {},
   "outputs": [
    {
     "name": "stdout",
     "output_type": "stream",
     "text": [
      "Optimization terminated successfully    (Exit mode 0)\n",
      "            Current function value: 828.3205778524829\n",
      "            Iterations: 11\n",
      "            Function evaluations: 65\n",
      "            Gradient evaluations: 11\n"
     ]
    }
   ],
   "source": [
    "# Specify GARCH model assumptions\n",
    "basic_gm = arch_model(df['return'], p = 1, q = 1,\n",
    "                      mean = 'constant', vol = 'GARCH', dist = 'normal')\n",
    "# Fit the model\n",
    "gm_result = basic_gm.fit(update_freq = 0)\n",
    "\n",
    "\n",
    "# Obtain model estimated residuals and volatility\n",
    "gm_resid = gm_result.resid\n",
    "gm_std = gm_result.conditional_volatility"
   ]
  },
  {
   "cell_type": "code",
   "execution_count": 39,
   "metadata": {},
   "outputs": [
    {
     "name": "stdout",
     "output_type": "stream",
     "text": [
      "0.01   -2.906972\n",
      "0.05   -2.052204\n",
      "dtype: float64\n"
     ]
    }
   ],
   "source": [
    "# Obtain model estimated residuals and volatility\n",
    "gm_resid = res.resid\n",
    "gm_std = res.conditional_volatility\n",
    "\n",
    "# Calculate the standardized residuals\n",
    "gm_std_resid = gm_resid /gm_std\n",
    "\n",
    "# Obtain the empirical quantiles\n",
    "q = gm_std_resid.quantile([.01, .05])\n",
    "print(q)"
   ]
  },
  {
   "cell_type": "code",
   "execution_count": 40,
   "metadata": {},
   "outputs": [
    {
     "data": {
      "text/html": [
       "<div>\n",
       "<style scoped>\n",
       "    .dataframe tbody tr th:only-of-type {\n",
       "        vertical-align: middle;\n",
       "    }\n",
       "\n",
       "    .dataframe tbody tr th {\n",
       "        vertical-align: top;\n",
       "    }\n",
       "\n",
       "    .dataframe thead th {\n",
       "        text-align: right;\n",
       "    }\n",
       "</style>\n",
       "<table border=\"1\" class=\"dataframe\">\n",
       "  <thead>\n",
       "    <tr style=\"text-align: right;\">\n",
       "      <th></th>\n",
       "      <th>1%</th>\n",
       "      <th>5%</th>\n",
       "    </tr>\n",
       "  </thead>\n",
       "  <tbody>\n",
       "    <tr>\n",
       "      <th>count</th>\n",
       "      <td>275.000000</td>\n",
       "      <td>275.000000</td>\n",
       "    </tr>\n",
       "    <tr>\n",
       "      <th>mean</th>\n",
       "      <td>-0.079685</td>\n",
       "      <td>-0.080271</td>\n",
       "    </tr>\n",
       "    <tr>\n",
       "      <th>std</th>\n",
       "      <td>0.000283</td>\n",
       "      <td>0.000200</td>\n",
       "    </tr>\n",
       "    <tr>\n",
       "      <th>min</th>\n",
       "      <td>-0.081679</td>\n",
       "      <td>-0.081679</td>\n",
       "    </tr>\n",
       "    <tr>\n",
       "      <th>25%</th>\n",
       "      <td>-0.079842</td>\n",
       "      <td>-0.080382</td>\n",
       "    </tr>\n",
       "    <tr>\n",
       "      <th>50%</th>\n",
       "      <td>-0.079703</td>\n",
       "      <td>-0.080284</td>\n",
       "    </tr>\n",
       "    <tr>\n",
       "      <th>75%</th>\n",
       "      <td>-0.079548</td>\n",
       "      <td>-0.080175</td>\n",
       "    </tr>\n",
       "    <tr>\n",
       "      <th>max</th>\n",
       "      <td>-0.079008</td>\n",
       "      <td>-0.079794</td>\n",
       "    </tr>\n",
       "  </tbody>\n",
       "</table>\n",
       "</div>"
      ],
      "text/plain": [
       "               1%          5%\n",
       "count  275.000000  275.000000\n",
       "mean    -0.079685   -0.080271\n",
       "std      0.000283    0.000200\n",
       "min     -0.081679   -0.081679\n",
       "25%     -0.079842   -0.080382\n",
       "50%     -0.079703   -0.080284\n",
       "75%     -0.079548   -0.080175\n",
       "max     -0.079008   -0.079794"
      ]
     },
     "execution_count": 40,
     "metadata": {},
     "output_type": "execute_result"
    }
   ],
   "source": [
    "value_at_risk = -cond_mean.values - np.sqrt(cond_var).values * q.values[None, :]\n",
    "value_at_risk = pd.DataFrame(value_at_risk, columns=['1%', '5%'], index=cond_var.index)\n",
    "value_at_risk.describe()"
   ]
  },
  {
   "cell_type": "markdown",
   "metadata": {},
   "source": [
    "## GARCH and Covariance"
   ]
  },
  {
   "cell_type": "code",
   "execution_count": 87,
   "metadata": {},
   "outputs": [
    {
     "name": "stderr",
     "output_type": "stream",
     "text": [
      "[*********************100%%**********************]  1 of 1 completed\n",
      "[*********************100%%**********************]  1 of 1 completed\n",
      "[*********************100%%**********************]  1 of 1 completed\n"
     ]
    }
   ],
   "source": [
    "end = dt.datetime.now()\n",
    "start =end - dt.timedelta(days=1500)\n",
    "\n",
    "# Importing some stock data\n",
    "FLT = pdr.get_data_yahoo('FLT.AX', start, end)\n",
    "\n",
    "QAN = pdr.get_data_yahoo('QAN.AX', start, end)\n",
    "\n",
    "VAS = pdr.get_data_yahoo('VAS.AX', start, end)\n",
    "\n",
    "\n",
    "\n"
   ]
  },
  {
   "cell_type": "code",
   "execution_count": 88,
   "metadata": {},
   "outputs": [],
   "source": [
    "# calculate returns for each\n",
    "FLT['return']=FLT['Close'].pct_change().dropna()\n",
    "FLT = FLT.dropna()\n",
    "\n",
    "QAN['return']=QAN['Close'].pct_change().dropna()\n",
    "QAN = QAN.dropna()\n",
    "\n",
    "VAS['return']=VAS['Close'].pct_change().dropna()\n",
    "VAS = VAS.dropna()\n"
   ]
  },
  {
   "cell_type": "code",
   "execution_count": 89,
   "metadata": {},
   "outputs": [],
   "source": [
    "import pmdarima as pm # for auto arima"
   ]
  },
  {
   "cell_type": "code",
   "execution_count": 90,
   "metadata": {},
   "outputs": [],
   "source": [
    "flt_arima =pm.auto_arima(FLT['return'],seasonal=False,information_criterion='bic',error_action='ignore')\n",
    "\n",
    "qan_arima =pm.auto_arima(QAN['return'],seasonal=False,information_criterion='bic',error_action='ignore')\n",
    "\n",
    "\n",
    "vas_arima =pm.auto_arima(VAS['return'],seasonal=False,information_criterion='bic',error_action='ignore')\n"
   ]
  },
  {
   "cell_type": "code",
   "execution_count": 91,
   "metadata": {},
   "outputs": [
    {
     "name": "stdout",
     "output_type": "stream",
     "text": [
      " ARIMA(1,0,1)(0,0,0)[0]          \n",
      " ARIMA(1,0,0)(0,0,0)[0]          \n",
      " ARIMA(1,0,0)(0,0,0)[0]          \n"
     ]
    }
   ],
   "source": [
    "print(flt_arima)\n",
    "print(qan_arima)\n",
    "print(vas_arima)"
   ]
  },
  {
   "cell_type": "code",
   "execution_count": 92,
   "metadata": {},
   "outputs": [
    {
     "name": "stderr",
     "output_type": "stream",
     "text": [
      "C:\\Users\\New User\\AppData\\Roaming\\Python\\Python38\\site-packages\\statsmodels\\tsa\\base\\tsa_model.py:473: ValueWarning: A date index has been provided, but it has no associated frequency information and so will be ignored when e.g. forecasting.\n",
      "  self._init_dates(dates, freq)\n",
      "C:\\Users\\New User\\AppData\\Roaming\\Python\\Python38\\site-packages\\statsmodels\\tsa\\base\\tsa_model.py:473: ValueWarning: A date index has been provided, but it has no associated frequency information and so will be ignored when e.g. forecasting.\n",
      "  self._init_dates(dates, freq)\n",
      "C:\\Users\\New User\\AppData\\Roaming\\Python\\Python38\\site-packages\\statsmodels\\tsa\\base\\tsa_model.py:473: ValueWarning: A date index has been provided, but it has no associated frequency information and so will be ignored when e.g. forecasting.\n",
      "  self._init_dates(dates, freq)\n",
      "C:\\Users\\New User\\AppData\\Roaming\\Python\\Python38\\site-packages\\statsmodels\\tsa\\base\\tsa_model.py:473: ValueWarning: A date index has been provided, but it has no associated frequency information and so will be ignored when e.g. forecasting.\n",
      "  self._init_dates(dates, freq)\n",
      "C:\\Users\\New User\\AppData\\Roaming\\Python\\Python38\\site-packages\\statsmodels\\tsa\\base\\tsa_model.py:473: ValueWarning: A date index has been provided, but it has no associated frequency information and so will be ignored when e.g. forecasting.\n",
      "  self._init_dates(dates, freq)\n",
      "C:\\Users\\New User\\AppData\\Roaming\\Python\\Python38\\site-packages\\statsmodels\\tsa\\base\\tsa_model.py:473: ValueWarning: A date index has been provided, but it has no associated frequency information and so will be ignored when e.g. forecasting.\n",
      "  self._init_dates(dates, freq)\n"
     ]
    }
   ],
   "source": [
    "fltARIMA = sm.tsa.SARIMAX(endog=FLT['return']*100,order=(0, 0, 0))\n",
    "fltARIMA_result = fltARIMA.fit()\n",
    "\n",
    "egarch_flt = arch_model(fltARIMA_result.resid, p = 1, q = 1, o = 1, vol = 'EGARCH', dist = 't', mean = 'zero')\n",
    "flt_gm_result = egarch_flt.fit(disp = 'off')\n",
    "\n",
    "###################\n",
    "\n",
    "qanARIMA = sm.tsa.SARIMAX(endog=QAN['return']*100,order=(0, 0, 0))\n",
    "qanARIMA_result = qanARIMA.fit()\n",
    "\n",
    "egarch_qan = arch_model(qanARIMA_result.resid, p = 1, q = 1, o = 1, vol = 'EGARCH', dist = 't', mean = 'zero')\n",
    "qan_gm_result = egarch_qan.fit(disp = 'off')\n",
    "\n",
    "#######################\n",
    "\n",
    "vasARIMA = sm.tsa.SARIMAX(endog=VAS['return']*100,order=(0, 0, 0))\n",
    "vasARIMA_result = vasARIMA.fit()\n",
    "\n",
    "egarch_vas = arch_model(vasARIMA_result.resid, p = 1, q = 1, o = 1, vol = 'EGARCH', dist = 't', mean = 'zero')\n",
    "vas_gm_result = egarch_vas.fit(disp = 'off')\n"
   ]
  },
  {
   "cell_type": "code",
   "execution_count": 94,
   "metadata": {},
   "outputs": [
    {
     "data": {
      "image/png": "[encoded data removed]",
      "text/plain": [
       "<Figure size 432x288 with 1 Axes>"
      ]
     },
     "metadata": {
      "needs_background": "light"
     },
     "output_type": "display_data"
    }
   ],
   "source": [
    "#### Grab all the volatility for each series\n",
    "vol_flt = flt_gm_result.conditional_volatility\n",
    "vol_qan = qan_gm_result.conditional_volatility\n",
    "vol_vas = vas_gm_result.conditional_volatility\n",
    "\n",
    "#### Standardized residuals\n",
    "resid_flt = flt_gm_result.resid/vol_flt\n",
    "resid_qan = qan_gm_result.resid/vol_qan\n",
    "resid_vas = vas_gm_result.resid/vol_vas\n",
    "\n",
    "#### Correlation between QAN and FLT\n",
    "\n",
    "corr = np.corrcoef(resid_qan,resid_flt)[0,1]\n",
    "\n",
    "#### GARCH covar between QAN and FLT\n",
    "covar = corr * vol_qan * vol_flt\n",
    "\n",
    "\n",
    "\n",
    "#plot\n",
    "plt.plot(covar,color='blue')\n",
    "plt.title('GARCH Covariance of QAN and FLT')\n",
    "plt.show()\n",
    "\n",
    "\n",
    "\n",
    "\n",
    "\n",
    "\n",
    "\n"
   ]
  },
  {
   "cell_type": "markdown",
   "metadata": {},
   "source": [
    "### Find Best Weights using Sharpe Ratio\n",
    "The Sharpe ratio seeks to characterize how well the return of an asset compensates the investor for the risk taken. \n",
    " $$S_{a}=\\frac{E[R_a - R_r]}{\\sigma_{a}}=\\frac{E[R_a - R_r]}{\\sqrt{Var(R_a - R_r)}}$$\n",
    "It represents the additional amount of return that an investor receives per unit of increase in risk"
   ]
  },
  {
   "cell_type": "code",
   "execution_count": 97,
   "metadata": {},
   "outputs": [
    {
     "data": {
      "image/png": "[encoded data removed]",
      "text/plain": [
       "<Figure size 432x288 with 1 Axes>"
      ]
     },
     "metadata": {
      "needs_background": "light"
     },
     "output_type": "display_data"
    },
    {
     "name": "stdout",
     "output_type": "stream",
     "text": [
      "Optimal QAN Weight = 99\n",
      "Optimal FLT Weight = 1\n",
      "Optimal Sharpe Ratio = 0.04217868444781163\n"
     ]
    }
   ],
   "source": [
    "data = {}\n",
    "for perc in range(100):\n",
    "    daily = (1 - perc / 100) * FLT[\"return\"] + (perc / 100) * QAN[\"return\"]\n",
    "    data[perc] = daily.mean() / daily.std() * (252 ** 0.5)\n",
    "    \n",
    "sx = pd.Series(data)\n",
    "s = pd.DataFrame(sx, index=sx.index)\n",
    "ax = s.plot(title=\"FLT/QAN allocation vs Sharpe\")\n",
    "ax.set_ylabel(\"Sharpe Ratio\")\n",
    "ax.set_xlabel(\"Percent Portfolio QAN\")\n",
    "plt.show()\n",
    "\n",
    "tmf_w = 100 - s.idxmax()[0]\n",
    "print('Optimal QAN Weight =', s.idxmax()[0])\n",
    "print('Optimal FLT Weight =', tmf_w)\n",
    "print('Optimal Sharpe Ratio =', s.max()[0])"
   ]
  },
  {
   "cell_type": "markdown",
   "metadata": {},
   "source": [
    "This is telling us that FLT is returning almost no return for the additional risk taken for it. Thus if it HAS to be in the portfolio, then the optimal weight is =< 1%"
   ]
  },
  {
   "cell_type": "code",
   "execution_count": 104,
   "metadata": {},
   "outputs": [
    {
     "data": {
      "image/png": "[encoded data removed]",
      "text/plain": [
       "<Figure size 432x288 with 1 Axes>"
      ]
     },
     "metadata": {
      "needs_background": "light"
     },
     "output_type": "display_data"
    }
   ],
   "source": [
    "# Define weights\n",
    "Wa1 = 0.99\n",
    "Wa2 = 0.1\n",
    "\n",
    "Wb1 = 0.49\n",
    "Wb2 = 1 - Wb1\n",
    "\n",
    "# Calculate individual returns variance\n",
    "variance_QAN = np.var(QAN['return'])\n",
    "variance_FLT = np.var(FLT['return'])\n",
    "\n",
    "# Calculate portfolio variance (variance formula for 2 assets)\n",
    "portvar_a = Wa1**2 * variance_QAN + Wa2**2 * variance_FLT + 2*Wa1*Wa2*covar\n",
    "portvar_b = Wb1**2 * variance_QAN + Wb2**2 * variance_FLT + 2*Wb1*Wb2*covar\n",
    "\n",
    "# Plot the data\n",
    "plt.plot(portvar_a, color = 'red', label = 'Optimal QAN and FLT')\n",
    "plt.plot(portvar_b, color = 'deepskyblue', label = 'Non Optimal QAN and FLT')\n",
    "plt.title('Covariance')\n",
    "plt.legend(loc = 'best')\n",
    "plt.show()"
   ]
  },
  {
   "cell_type": "markdown",
   "metadata": {},
   "source": [
    "## Beta\n",
    "$$Beta=\\rho \\frac{\\sigma_{stock}}{\\sigma_{market}}$$"
   ]
  },
  {
   "cell_type": "code",
   "execution_count": 105,
   "metadata": {},
   "outputs": [],
   "source": [
    "# 1). Compute correlation between S&P500 and stock\n",
    "resid_stock = qan_gm_result.resid / qan_gm_result.conditional_volatility\n",
    "resid_VAS = vas_gm_result.resid / vas_gm_result.conditional_volatility\n",
    "\n",
    "correlation = np.corrcoef(resid_stock, resid_VAS)[0, 1]\n",
    "\n",
    "# 2). Compute dynamic Beta for the stock\n",
    "stock_beta = correlation * (qan_gm_result.conditional_volatility / vas_gm_result.conditional_volatility)"
   ]
  },
  {
   "cell_type": "code",
   "execution_count": 106,
   "metadata": {},
   "outputs": [
    {
     "data": {
      "image/png": "[encoded data removed]",
      "text/plain": [
       "<Figure size 432x288 with 1 Axes>"
      ]
     },
     "metadata": {
      "needs_background": "light"
     },
     "output_type": "display_data"
    }
   ],
   "source": [
    "# Plot the Beta\n",
    "plt.title('QAN Stock Beta')\n",
    "plt.plot(stock_beta)\n",
    "plt.show()\n"
   ]
  }
 ],
 "metadata": {
  "kernelspec": {
   "display_name": "Python 3",
   "language": "python",
   "name": "python3"
  },
  "language_info": {
   "codemirror_mode": {
    "name": "ipython",
    "version": 3
   },
   "file_extension": ".py",
   "mimetype": "text/x-python",
   "name": "python",
   "nbconvert_exporter": "python",
   "pygments_lexer": "ipython3",
   "version": "3.8.3"
  }
 },
 "nbformat": 4,
 "nbformat_minor": 4
}
